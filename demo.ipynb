{
 "cells": [
  {
   "cell_type": "code",
   "execution_count": 1,
   "metadata": {},
   "outputs": [],
   "source": [
    "from __future__ import print_function, division\n",
    "import os\n",
    "os.environ[\"CUDA_VISIBLE_DEVICES\"]=\"0\"\n",
    "import torch.utils.data\n",
    "import torch.nn.functional as F\n",
    "import time\n",
    "from datasets import __datasets__\n",
    "import gc\n",
    "import skimage\n",
    "import skimage.io\n",
    "import skimage.transform\n",
    "import numpy as np\n",
    "from PIL import Image\n",
    "from datasets.data_io import get_transform\n",
    "from models.bgnet import BGNet\n",
    "from models.bgnet_plus import BGNet_Plus\n",
    "from utils import *\n",
    "import time\n",
    "\n",
    "\n"
   ]
  },
  {
   "cell_type": "code",
   "execution_count": 2,
   "metadata": {},
   "outputs": [],
   "source": [
    "H = 120\n",
    "W = 160\n",
    "N = 12"
   ]
  },
  {
   "cell_type": "code",
   "execution_count": 3,
   "metadata": {},
   "outputs": [
    {
     "name": "stderr",
     "output_type": "stream",
     "text": [
      "/disk2/users/M22_zhaoqinghao/.local/lib/python3.8/site-packages/torch/functional.py:504: UserWarning: torch.meshgrid: in an upcoming release, it will be required to pass the indexing argument. (Triggered internally at ../aten/src/ATen/native/TensorShape.cpp:3190.)\n",
      "  return _VF.meshgrid(tensors, **kwargs)  # type: ignore[attr-defined]\n"
     ]
    }
   ],
   "source": [
    "hg, wg = torch.meshgrid([torch.arange(0, H), torch.arange(0, W)])\n",
    "hg = hg.float().repeat(N, 1, 1).unsqueeze(3) / (H-1) * 2 - 1"
   ]
  },
  {
   "cell_type": "code",
   "execution_count": 4,
   "metadata": {},
   "outputs": [
    {
     "data": {
      "text/plain": [
       "torch.Size([12, 120, 160, 1])"
      ]
     },
     "execution_count": 4,
     "metadata": {},
     "output_type": "execute_result"
    }
   ],
   "source": [
    "torch.Size(hg.size())"
   ]
  },
  {
   "cell_type": "code",
   "execution_count": 5,
   "metadata": {},
   "outputs": [],
   "source": [
    "index = torch.arange(0,97)  # tensor([ 0 ,..., 96])\n",
    "index_float = index/4.0\n",
    "index_a = torch.floor(index_float)\n",
    "index_b = index_a + 1\n",
    "# 限制 index_a, index_b 的范围在 [0,24] 之间\n",
    "index_a = torch.clamp(index_a, min=0, max= 24)\n",
    "index_b = torch.clamp(index_b, min=0, max= 24)\n",
    "\n",
    "wa = index_b - index_float\n",
    "wb = index_float - index_a\n",
    "\n",
    "# reshape wa, wb to (1,n,1,1)\n",
    "wa  = wa.view(1,-1,1,1)\n",
    "wb  = wb.view(1,-1,1,1)\n",
    "wa = wa.float()\n",
    "wb = wb.float()"
   ]
  },
  {
   "cell_type": "code",
   "execution_count": 6,
   "metadata": {},
   "outputs": [
    {
     "data": {
      "text/plain": [
       "torch.Size([1, 97, 1, 1])"
      ]
     },
     "execution_count": 6,
     "metadata": {},
     "output_type": "execute_result"
    }
   ],
   "source": [
    "wa.size()"
   ]
  },
  {
   "cell_type": "code",
   "execution_count": 7,
   "metadata": {},
   "outputs": [],
   "source": [
    "# wa"
   ]
  },
  {
   "cell_type": "code",
   "execution_count": 8,
   "metadata": {},
   "outputs": [],
   "source": [
    "H = 480\n",
    "W = 640\n",
    "N = 1"
   ]
  },
  {
   "cell_type": "code",
   "execution_count": 9,
   "metadata": {},
   "outputs": [],
   "source": [
    "#读取图片\n",
    "x = Image.open('/home/zhaoqinghao/DSEC/output/left/000167.png').convert('L')\n",
    "right_img = Image.open('/home/zhaoqinghao/DSEC/output/right/000167.png').convert('L')\n",
    "disp = Image.open('/home/zhaoqinghao/DSEC/output/disp/000167.png').convert('L')\n"
   ]
  },
  {
   "cell_type": "code",
   "execution_count": 10,
   "metadata": {},
   "outputs": [],
   "source": [
    "xx = torch.arange(0, W).view(1, -1).repeat(H, 1)\n",
    "yy = torch.arange(0, H).view(-1, 1).repeat(1, W)\n",
    "xx = xx.view(1, 1, H, W).repeat(N, 1, 1, 1)\n",
    "yy = yy.view(1, 1, H, W).repeat(N, 1, 1, 1)\n",
    "grid = torch.cat((xx, yy), 1).float()"
   ]
  },
  {
   "cell_type": "code",
   "execution_count": 11,
   "metadata": {},
   "outputs": [],
   "source": [
    "maxdisp = 3\n",
    "b = N\n",
    "stride = 1"
   ]
  },
  {
   "cell_type": "code",
   "execution_count": 12,
   "metadata": {},
   "outputs": [],
   "source": [
    "temp_array = np.tile(np.array(range(-maxdisp + 1, maxdisp)), b) * stride\n",
    "batch_shift = torch.Tensor(np.reshape(temp_array, [len(temp_array), 1, 1, 1])).cuda().requires_grad_(False)"
   ]
  }
 ],
 "metadata": {
  "kernelspec": {
   "display_name": "Python 3",
   "language": "python",
   "name": "python3"
  },
  "language_info": {
   "codemirror_mode": {
    "name": "ipython",
    "version": 3
   },
   "file_extension": ".py",
   "mimetype": "text/x-python",
   "name": "python",
   "nbconvert_exporter": "python",
   "pygments_lexer": "ipython3",
   "version": "3.8.10"
  }
 },
 "nbformat": 4,
 "nbformat_minor": 2
}
